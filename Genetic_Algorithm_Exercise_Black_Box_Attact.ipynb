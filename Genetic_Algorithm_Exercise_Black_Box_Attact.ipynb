{
  "nbformat": 4,
  "nbformat_minor": 0,
  "metadata": {
    "colab": {
      "name": "Genetic-Algorithm-Exercise-Black-Box-Attact.ipynb",
      "provenance": [],
      "collapsed_sections": [],
      "authorship_tag": "ABX9TyNRb1pucyzsZqvZLKkNTiJi",
      "include_colab_link": true
    },
    "kernelspec": {
      "name": "python3",
      "display_name": "Python 3"
    },
    "accelerator": "GPU"
  },
  "cells": [
    {
      "cell_type": "markdown",
      "metadata": {
        "id": "view-in-github",
        "colab_type": "text"
      },
      "source": [
        "<a href=\"https://colab.research.google.com/github/Xuanghdu/Genetic-Algorithm-Exercise-Black-Box-Attact/blob/master/Genetic_Algorithm_Exercise_Black_Box_Attact.ipynb\" target=\"_parent\"><img src=\"https://colab.research.google.com/assets/colab-badge.svg\" alt=\"Open In Colab\"/></a>"
      ]
    },
    {
      "cell_type": "code",
      "metadata": {
        "id": "Ag-LmYHMaHzK",
        "colab_type": "code",
        "colab": {}
      },
      "source": [
        "!rm -rf ./sample_data"
      ],
      "execution_count": 0,
      "outputs": []
    },
    {
      "cell_type": "code",
      "metadata": {
        "id": "xsvyTEqIac3I",
        "colab_type": "code",
        "outputId": "c918cb6f-82f4-42b2-825e-a4aa719f4c00",
        "colab": {
          "base_uri": "https://localhost:8080/",
          "height": 420
        }
      },
      "source": [
        "!curl -LO https://github.com/mozilla/DeepSpeech/releases/download/v0.7.3/deepspeech-0.7.3-models.pbmm\n",
        "!curl -LO https://github.com/mozilla/DeepSpeech/releases/download/v0.7.3/deepspeech-0.7.3-models.scorer\n",
        "!curl -LO https://github.com/mozilla/DeepSpeech/releases/download/v0.7.3/audio-0.7.3.tar.gz\n",
        "!tar xvf audio-0.7.3.tar.gz\n",
        "!rm -f audio-0.7.3.tar.gz"
      ],
      "execution_count": 0,
      "outputs": [
        {
          "output_type": "stream",
          "text": [
            "  % Total    % Received % Xferd  Average Speed   Time    Time     Time  Current\n",
            "                                 Dload  Upload   Total   Spent    Left  Speed\n",
            "100   639  100   639    0     0   2618      0 --:--:-- --:--:-- --:--:--  2608\n",
            "100  180M  100  180M    0     0  25.9M      0  0:00:06  0:00:06 --:--:-- 32.4M\n",
            "  % Total    % Received % Xferd  Average Speed   Time    Time     Time  Current\n",
            "                                 Dload  Upload   Total   Spent    Left  Speed\n",
            "100   641  100   641    0     0   2861      0 --:--:-- --:--:-- --:--:--  2861\n",
            "100  909M  100  909M    0     0  27.7M      0  0:00:32  0:00:32 --:--:-- 27.9M\n",
            "  % Total    % Received % Xferd  Average Speed   Time    Time     Time  Current\n",
            "                                 Dload  Upload   Total   Spent    Left  Speed\n",
            "100   629  100   629    0     0   2833      0 --:--:-- --:--:-- --:--:--  2833\n",
            "100  193k  100  193k    0     0   207k      0 --:--:-- --:--:-- --:--:--  207k\n",
            "._audio\n",
            "audio/\n",
            "audio/._2830-3980-0043.wav\n",
            "audio/2830-3980-0043.wav\n",
            "audio/._Attribution.txt\n",
            "audio/Attribution.txt\n",
            "audio/._4507-16021-0012.wav\n",
            "audio/4507-16021-0012.wav\n",
            "audio/._8455-210777-0068.wav\n",
            "audio/8455-210777-0068.wav\n",
            "audio/._License.txt\n",
            "audio/License.txt\n"
          ],
          "name": "stdout"
        }
      ]
    },
    {
      "cell_type": "code",
      "metadata": {
        "id": "WJMOGsyIaffA",
        "colab_type": "code",
        "outputId": "39fdbd31-7696-4bc0-da8d-74015cdd9026",
        "colab": {
          "base_uri": "https://localhost:8080/",
          "height": 118
        }
      },
      "source": [
        "!pip install deepspeech-gpu"
      ],
      "execution_count": 0,
      "outputs": [
        {
          "output_type": "stream",
          "text": [
            "Collecting deepspeech-gpu\n",
            "\u001b[?25l  Downloading https://files.pythonhosted.org/packages/a9/cd/f2dce987dd09614dc55186f00028adfa9386cb114bf675e710ea7ead99ea/deepspeech_gpu-0.7.3-cp36-cp36m-manylinux1_x86_64.whl (19.2MB)\n",
            "\u001b[K     |████████████████████████████████| 19.2MB 1.2MB/s \n",
            "\u001b[?25hRequirement already satisfied: numpy in /usr/local/lib/python3.6/dist-packages (from deepspeech-gpu) (1.18.5)\n",
            "Installing collected packages: deepspeech-gpu\n",
            "Successfully installed deepspeech-gpu-0.7.3\n"
          ],
          "name": "stdout"
        }
      ]
    },
    {
      "cell_type": "code",
      "metadata": {
        "id": "tnsQjtHtai4S",
        "colab_type": "code",
        "outputId": "bf6b6720-a5d0-49bf-bd7a-81f7c74c372f",
        "colab": {
          "base_uri": "https://localhost:8080/",
          "height": 625
        }
      },
      "source": [
        "!deepspeech --model deepspeech-0.7.3-models.pbmm --scorer deepspeech-0.7.3-models.scorer --audio audio/8455-210777-0068.wav"
      ],
      "execution_count": 0,
      "outputs": [
        {
          "output_type": "stream",
          "text": [
            "2020-06-10 02:27:42.601352: I tensorflow/stream_executor/platform/default/dso_loader.cc:44] Successfully opened dynamic library libcudart.so.10.0\n",
            "Loading model from file deepspeech-0.7.3-models.pbmm\n",
            "TensorFlow: v1.15.0-24-gceb46aa\n",
            "DeepSpeech: v0.7.3-0-g8858494\n",
            "2020-06-10 02:27:42.766507: I tensorflow/core/platform/cpu_feature_guard.cc:142] Your CPU supports instructions that this TensorFlow binary was not compiled to use: AVX2 AVX512F FMA\n",
            "2020-06-10 02:27:42.767622: I tensorflow/stream_executor/platform/default/dso_loader.cc:44] Successfully opened dynamic library libcuda.so.1\n",
            "2020-06-10 02:27:42.817296: I tensorflow/stream_executor/cuda/cuda_gpu_executor.cc:983] successful NUMA node read from SysFS had negative value (-1), but there must be at least one NUMA node, so returning NUMA node zero\n",
            "2020-06-10 02:27:42.817869: I tensorflow/core/common_runtime/gpu/gpu_device.cc:1618] Found device 0 with properties: \n",
            "name: Tesla P100-PCIE-16GB major: 6 minor: 0 memoryClockRate(GHz): 1.3285\n",
            "pciBusID: 0000:00:04.0\n",
            "2020-06-10 02:27:42.817896: I tensorflow/stream_executor/platform/default/dso_loader.cc:44] Successfully opened dynamic library libcudart.so.10.0\n",
            "2020-06-10 02:27:43.044973: I tensorflow/stream_executor/platform/default/dso_loader.cc:44] Successfully opened dynamic library libcublas.so.10.0\n",
            "2020-06-10 02:27:43.130432: I tensorflow/stream_executor/platform/default/dso_loader.cc:44] Successfully opened dynamic library libcufft.so.10.0\n",
            "2020-06-10 02:27:43.167496: I tensorflow/stream_executor/platform/default/dso_loader.cc:44] Successfully opened dynamic library libcurand.so.10.0\n",
            "2020-06-10 02:27:43.406087: I tensorflow/stream_executor/platform/default/dso_loader.cc:44] Successfully opened dynamic library libcusolver.so.10.0\n",
            "2020-06-10 02:27:43.525062: I tensorflow/stream_executor/platform/default/dso_loader.cc:44] Successfully opened dynamic library libcusparse.so.10.0\n",
            "2020-06-10 02:27:44.059210: I tensorflow/stream_executor/platform/default/dso_loader.cc:44] Successfully opened dynamic library libcudnn.so.7\n",
            "2020-06-10 02:27:44.059350: I tensorflow/stream_executor/cuda/cuda_gpu_executor.cc:983] successful NUMA node read from SysFS had negative value (-1), but there must be at least one NUMA node, so returning NUMA node zero\n",
            "2020-06-10 02:27:44.060001: I tensorflow/stream_executor/cuda/cuda_gpu_executor.cc:983] successful NUMA node read from SysFS had negative value (-1), but there must be at least one NUMA node, so returning NUMA node zero\n",
            "2020-06-10 02:27:44.060568: I tensorflow/core/common_runtime/gpu/gpu_device.cc:1746] Adding visible gpu devices: 0\n",
            "2020-06-10 02:29:03.124012: I tensorflow/core/common_runtime/gpu/gpu_device.cc:1159] Device interconnect StreamExecutor with strength 1 edge matrix:\n",
            "2020-06-10 02:29:03.124051: I tensorflow/core/common_runtime/gpu/gpu_device.cc:1165]      0 \n",
            "2020-06-10 02:29:03.124061: I tensorflow/core/common_runtime/gpu/gpu_device.cc:1178] 0:   N \n",
            "2020-06-10 02:29:03.124191: I tensorflow/stream_executor/cuda/cuda_gpu_executor.cc:983] successful NUMA node read from SysFS had negative value (-1), but there must be at least one NUMA node, so returning NUMA node zero\n",
            "2020-06-10 02:29:03.124789: I tensorflow/stream_executor/cuda/cuda_gpu_executor.cc:983] successful NUMA node read from SysFS had negative value (-1), but there must be at least one NUMA node, so returning NUMA node zero\n",
            "2020-06-10 02:29:03.125302: I tensorflow/stream_executor/cuda/cuda_gpu_executor.cc:983] successful NUMA node read from SysFS had negative value (-1), but there must be at least one NUMA node, so returning NUMA node zero\n",
            "2020-06-10 02:29:03.125795: W tensorflow/core/common_runtime/gpu/gpu_bfc_allocator.cc:39] Overriding allow_growth setting because the TF_FORCE_GPU_ALLOW_GROWTH environment variable is set. Original config value was 0.\n",
            "2020-06-10 02:29:03.125838: I tensorflow/core/common_runtime/gpu/gpu_device.cc:1304] Created TensorFlow device (/job:localhost/replica:0/task:0/device:GPU:0 with 15192 MB memory) -> physical GPU (device: 0, name: Tesla P100-PCIE-16GB, pci bus id: 0000:00:04.0, compute capability: 6.0)\n",
            "Loaded model in 80.4s.\n",
            "Loading scorer from files deepspeech-0.7.3-models.scorer\n",
            "Loaded scorer in 0.000208s.\n",
            "Running inference.\n",
            "2020-06-10 02:29:03.171865: I tensorflow/stream_executor/platform/default/dso_loader.cc:44] Successfully opened dynamic library libcublas.so.10.0\n",
            "your power is sufficient i said\n",
            "Inference took 1.801s for 2.590s audio file.\n"
          ],
          "name": "stdout"
        }
      ]
    },
    {
      "cell_type": "code",
      "metadata": {
        "id": "-t75UpRNeYcu",
        "colab_type": "code",
        "colab": {}
      },
      "source": [
        "import tensorflow as tf\n",
        "import numpy as np\n",
        "import sys\n",
        "import scipy.io.wavfile as wav\n",
        "\n",
        "tokens = \" abcdefghijklmnopqrstuvwxyz'-\"\n",
        "\n",
        "class Genetic():\n",
        "    def __init__(self, input_file, output_file, target_phrase):\n",
        "        self.elite_size = 10\n",
        "        self.pop_size = self.elite_size*self.elite_size*2\n",
        "        self.crossover_size = self.elite_size*(self.elite_size-1)\n",
        "        self.max_iters = 100\n",
        "        self.noise_stdev = 50\n",
        "        self.f, self.input_file = wav.read(input_file)\n",
        "        self.input_file = self.input_file.astype(np.float32)\n",
        "        self.pop = np.expand_dims(self.input_file, axis=0)\n",
        "        self.pop = np.tile(self.pop, (self.pop_size, 1))\n",
        "        self.output_file = output_file\n",
        "        self.target_phrase = target_phrase\n",
        "        self.target_enc = np.array([tokens.index(x) for x in target_phrase])\n",
        "\n",
        "    def get_ctc_loss(self):\n",
        "        # tf.nn.ctc_loss(labels, logits, label_length, logit_length)\n",
        "        pass\n",
        "\n",
        "    def first_mutate(self):\n",
        "        self.pop[1:] += np.random.randn(*self.pop.shape)[1:] * self.noise_stdev\n",
        "\n",
        "    def mutate(self):\n",
        "        # self.pop[-self.pop_size/2:] += np.random.randn(*self.pop.shape)[-self.pop_size/2:] * noise_stdev\n",
        "        pass\n",
        "\n",
        "    def crossover(self, elite_pop):\n",
        "        # update [-self.elite_size:] to elite_pop and crossover\n",
        "        pass\n",
        "\n",
        "    def attack(self):\n",
        "        itr = 1\n",
        "        best_text = ''\n",
        "        self.first_mutate()\n",
        "        # if log is not None:\n",
        "        #     log.write('target phrase: ' + self.target_phrase + '\\n')\n",
        "        #     log.write('itr, corr, lev dist \\n')\n",
        "        while itr <= self.max_iters and best_text != self.target_phrase:\n",
        "            pop_scores = self.get_ctc_loss()\n",
        "            elite_ind = np.argsort(pop_scores)[-self.elite_size:]\n",
        "            elite_pop, elite_pop_scores = self.pop[elite_ind], pop_scores[elite_ind]\n",
        "            self.crossover(elite_pop, elite_pop_scores)\n",
        "            self.mutate()\n",
        "            itr += 1\n",
        "            # input = the best of elite\n",
        "            # best_text = tf.nn.ctc_greedy_decoder(inputs, sequence_length)\n",
        "        return itr > self.max_iters\n",
        "\n",
        "# input_file = sys.argv[1]\n",
        "# target_phrase = sys.argv[2].lower()\n",
        "input_file = 'sample_input.wav'\n",
        "target_phrase = 'hello world'\n",
        "output_file = input_file[:-4] + '_adv.wav'\n",
        "# log_file = input_file[:-4] + '_log.txt'\n",
        "\n",
        "print('target phrase: ', target_phrase)\n",
        "print('source file: ', input_file)\n",
        "\n",
        "g = Genetic(input_file, output_file, target_phrase)\n",
        "# with open(log_file, 'w') as log:\n",
        "    # success = g.attack(log=log)\n",
        "success = g.attack()\n",
        "\n",
        "if success:\n",
        "    print('Success!') \n",
        "else:\n",
        "    print('Failure!')\n",
        "print('\\nHere it is: ', output_file)\n",
        "\n",
        "# with tf.device('/device:GPU:0'):"
      ],
      "execution_count": 0,
      "outputs": []
    }
  ]
}